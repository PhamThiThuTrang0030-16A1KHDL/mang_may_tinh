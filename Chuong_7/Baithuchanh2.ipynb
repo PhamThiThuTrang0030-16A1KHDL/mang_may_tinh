{
 "cells": [
  {
   "cell_type": "markdown",
   "id": "458e6adf",
   "metadata": {},
   "source": [
    "# Bước 1: Xác thực bằng mật khẩu\n",
    "Viết chương trình yêu cầu người dùng nhập mật khẩu và kiểm tra tính hợp lệ"
   ]
  },
  {
   "cell_type": "code",
   "execution_count": 1,
   "id": "4a70f05f",
   "metadata": {},
   "outputs": [
    {
     "name": "stdout",
     "output_type": "stream",
     "text": [
      "Xác thực thành công!\n"
     ]
    }
   ],
   "source": [
    "import hashlib\n",
    "# Mật khẩu lưu trữ dưới dạng mã băm SHA-256\n",
    "stored_password = hashlib.sha256(b\"hsviet\").hexdigest()\n",
    "# Yêu cầu người dùng nhập mật khẩu\n",
    "password = input(\"Nhập mật khẩu: \")\n",
    "hashed_password = hashlib.sha256(password.encode()).hexdigest()\n",
    "if hashed_password == stored_password:\n",
    "    print(\"Xác thực thành công!\")\n",
    "else:\n",
    "    print(\"Xác thực thất bại!\")"
   ]
  },
  {
   "cell_type": "markdown",
   "id": "22e5452c",
   "metadata": {},
   "source": [
    "# Bước 2: Xác thực bằng mã OTP\n",
    "Mô tả: Tạo mã OTP ngẫu nhiên và yêu cầu người dùng nhập mã này để xác thực."
   ]
  },
  {
   "cell_type": "code",
   "execution_count": 2,
   "id": "a5aac4b6",
   "metadata": {},
   "outputs": [
    {
     "name": "stdout",
     "output_type": "stream",
     "text": [
      "Mã OTP của bạn là: 546897\n",
      "Xác thực thành công!\n"
     ]
    }
   ],
   "source": [
    "import pyotp\n",
    "import time\n",
    "# Tạo khóa bí mật và mã OTP\n",
    "secret = pyotp.random_base32()\n",
    "totp = pyotp.TOTP(secret)\n",
    "print(\"Mã OTP của bạn là:\", totp.now())\n",
    "# Yêu cầu nhập mã OTP\n",
    "otp_input = input(\"Nhập mã OTP: \")\n",
    "if totp.verify(otp_input):\n",
    "    print(\"Xác thực thành công!\")\n",
    "else:\n",
    "    print(\"Xác thực thất bại!\")"
   ]
  },
  {
   "cell_type": "markdown",
   "id": "59e6ef70",
   "metadata": {},
   "source": [
    "# Bước 3: Mô phỏng xác thực hai yếu tố (2FA)\n",
    "Mô tả: Kết hợp cả xác thực bằng mật khẩu và mã OTP"
   ]
  },
  {
   "cell_type": "code",
   "execution_count": 6,
   "id": "4c2c432d",
   "metadata": {},
   "outputs": [
    {
     "name": "stdout",
     "output_type": "stream",
     "text": [
      "Xác thực mật khẩu thành công! Chuyển sang bước xác thực bằng mã OTP.\n",
      "Mã OTP của bạn là: 828947\n",
      "Xác thực bước 2, mã OTP thất bại!\n"
     ]
    }
   ],
   "source": [
    "import hashlib\n",
    "import pyotp\n",
    "import time\n",
    "\n",
    "# Bước 1: Xác thực bằng mật khẩu\n",
    "stored_password = hashlib.sha256(b\"hsviet\").hexdigest()  # Mật khẩu đã băm lưu sẵn\n",
    "password = input(\"Nhập mật khẩu: \")\n",
    "hashed_password = hashlib.sha256(password.encode()).hexdigest()\n",
    "\n",
    "if hashed_password == stored_password:\n",
    "    print(\"Xác thực mật khẩu thành công! Chuyển sang bước xác thực bằng mã OTP.\")\n",
    "else:\n",
    "    print(\"Xác thực mật khẩu thất bại!\")\n",
    "    exit()  # Thoát chương trình nếu sai mật khẩu\n",
    "\n",
    "# Bước 2: Xác thực bằng mã OTP nếu mật khẩu đúng\n",
    "\n",
    "# **Lưu ý**: secret cần được giữ cố định, không tạo mới mỗi lần chạy\n",
    "# Ở đây để test, bạn có thể dùng secret tĩnh hoặc lấy từ file cấu hình\n",
    "secret = 'JBSWY3DPEHPK3PXP'  # Ví dụ secret\n",
    "\n",
    "totp = pyotp.TOTP(secret)\n",
    "\n",
    "# In mã OTP hiện tại (thường sẽ gửi SMS hoặc email thực tế)\n",
    "print(\"Mã OTP của bạn là:\", totp.now())\n",
    "\n",
    "# Yêu cầu người dùng nhập mã OTP\n",
    "otp_input = input(\"Nhập mã OTP: \")\n",
    "\n",
    "if totp.verify(otp_input):\n",
    "    print(\"Xác thực hai yếu tố thành công!\")\n",
    "else:\n",
    "    print(\"Xác thực bước 2, mã OTP thất bại!\")"
   ]
  },
  {
   "cell_type": "markdown",
   "id": "1c4fc44a",
   "metadata": {},
   "source": [
    "1. Tại sao xác thực hai yếu tố (2FA) lại an toàn hơn so với xác thực chỉ bằng mật khẩu?\n",
    "\n",
    "Xác thực hai yếu tố yêu cầu người dùng cung cấp hai dạng thông tin khác nhau để xác minh danh tính, thường là:\n",
    "\n",
    "Yếu tố thứ nhất: Mật khẩu (cái người biết)\n",
    "\n",
    "Yếu tố thứ hai: Mã OTP (cái người có, như điện thoại hoặc thiết bị tạo mã)\n",
    "\n",
    "Điều này giúp giảm thiểu rủi ro khi mật khẩu bị lộ hoặc bị đánh cắp, vì kẻ tấn công dù có mật khẩu cũng không thể đăng nhập nếu không có mã OTP sinh ra trên thiết bị của người dùng.\n",
    "\n",
    "Cung cấp lớp bảo vệ thứ hai giúp ngăn chặn các cuộc tấn công phổ biến như phishing, keylogger hay tấn công brute force.\n",
    "\n",
    "Tóm lại: 2FA làm tăng đáng kể mức độ bảo mật so với chỉ dùng mật khẩu, vì hacker cần phải đánh cắp cả hai yếu tố.\n",
    "\n",
    "2. Có thể cải tiến thêm tính năng bảo mật nào cho chương trình này không?\n",
    "\n",
    "Một số đề xuất để nâng cao bảo mật cho chương trình:\n",
    "\n",
    "Lưu trữ mật khẩu an toàn hơn:\n",
    "\n",
    "Sử dụng các thuật toán băm mật khẩu chuyên dụng như bcrypt, scrypt hoặc Argon2 thay vì chỉ dùng SHA-256 thuần túy.\n",
    "\n",
    "Thêm salting (thêm chuỗi ngẫu nhiên vào mật khẩu trước khi băm) để chống lại tấn công rainbow table.\n",
    "\n",
    "Quản lý secret cho OTP:\n",
    "\n",
    "Lưu trữ secret bí mật an toàn (ví dụ trong cơ sở dữ liệu được mã hóa hoặc biến môi trường).\n",
    "\n",
    "Cho phép người dùng đăng ký hoặc có thể reset secret trong trường hợp mất thiết bị tạo OTP.\n",
    "\n",
    "Thêm cơ chế giới hạn số lần nhập sai:\n",
    "\n",
    "Giới hạn số lần nhập sai mật khẩu và mã OTP nhằm ngăn tấn công brute force.\n",
    "Khóa tài khoản tạm thời khi nhập sai quá số lần cho phép.\n",
    "\n",
    "Gửi mã OTP qua nhiều phương thức bảo mật:\n",
    "\n",
    "Hỗ trợ gửi OTP qua SMS, email, hoặc tạo QR code để người dùng dễ dàng thiết lập app xác thực.\n",
    "\n",
    "Sử dụng HTTPS và kết nối an toàn nếu tích hợp trong ứng dụng web\n",
    "\n",
    "Ghi log các lần xác thực để phát hiện hành vi bất thường\n",
    "\n",
    "3. Dựa trên kết quả thực hành, Anh/Chị rút ra được bài học gì về tính bảo mật của mật khẩu và mã OTP?\n",
    "\n",
    "Mật khẩu đơn thuần không đủ để bảo vệ tài khoản an toàn, bởi có thể bị lộ qua nhiều cách như đánh cắp, dò tìm, hoặc phishing.\n",
    "\n",
    "Mã OTP (nhất là khi dùng 2FA) là một lớp bảo mật bổ sung, tăng cường khả năng chống lại các cuộc tấn công truy cập trái phép.\n",
    "\n",
    "Việc lưu trữ mật khẩu và xử lý xác thực phải được thực hiện an toàn, tránh lưu mật khẩu dạng plaintext hoặc dùng thuật toán băm yếu.\n",
    "\n",
    "Secret để tạo OTP phải được bảo mật nghiêm ngặt, nếu bị lộ, thì mã OTP có thể bị dự đoán hoặc giả mạo.\n",
    "\n",
    "Thực hành cho thấy rằng các biện pháp bảo mật cần được thiết kế đồng bộ, chặt chẽ cả về phần giao diện người dùng, backend, và lưu trữ dữ liệu."
   ]
  },
  {
   "cell_type": "markdown",
   "id": "3959566c",
   "metadata": {},
   "source": [
    "# Cải tiến\n",
    "- Sử dụng thư viện bcrypt để hash mật khẩu thay vì SHA-256\n",
    "\n",
    "- Thêm cơ chế giới hạn số lần nhập mật khẩu và OTP (3 lần)\n",
    "\n",
    "- Lưu secret cho OTP trong file để tái sử dụng\n",
    "\n",
    "- Tách bước xác thực mật khẩu và OTP rõ ràng"
   ]
  },
  {
   "cell_type": "code",
   "execution_count": 4,
   "id": "c926c579",
   "metadata": {},
   "outputs": [
    {
     "ename": "ModuleNotFoundError",
     "evalue": "No module named 'bcrypt'",
     "output_type": "error",
     "traceback": [
      "\u001b[1;31m---------------------------------------------------------------------------\u001b[0m",
      "\u001b[1;31mModuleNotFoundError\u001b[0m                       Traceback (most recent call last)",
      "Cell \u001b[1;32mIn[4], line 1\u001b[0m\n\u001b[1;32m----> 1\u001b[0m \u001b[38;5;28;01mimport\u001b[39;00m \u001b[38;5;21;01mbcrypt\u001b[39;00m\n\u001b[0;32m      2\u001b[0m \u001b[38;5;28;01mimport\u001b[39;00m \u001b[38;5;21;01mpyotp\u001b[39;00m\n\u001b[0;32m      3\u001b[0m \u001b[38;5;28;01mimport\u001b[39;00m \u001b[38;5;21;01mtime\u001b[39;00m\n",
      "\u001b[1;31mModuleNotFoundError\u001b[0m: No module named 'bcrypt'"
     ]
    }
   ],
   "source": [
    "import bcrypt\n",
    "import pyotp\n",
    "import time\n",
    "import os\n",
    "\n",
    "# Hàm hash mật khẩu với bcrypt\n",
    "def hash_password(password: str) -> bytes:\n",
    "    salt = bcrypt.gensalt()\n",
    "    return bcrypt.hashpw(password.encode(), salt)\n",
    "\n",
    "# Hàm kiểm tra mật khẩu\n",
    "def check_password(password: str, hashed: bytes) -> bool:\n",
    "    return bcrypt.checkpw(password.encode(), hashed)\n",
    "\n",
    "# Hàm lưu secret OTP vào file an toàn (ví dụ đơn giản)\n",
    "def save_secret(secret: str, filename=\"secret.key\"):\n",
    "    with open(filename, \"w\") as f:\n",
    "        f.write(secret)\n",
    "\n",
    "# Hàm đọc secret OTP từ file\n",
    "def load_secret(filename=\"secret.key\") -> str:\n",
    "    if not os.path.exists(filename):\n",
    "        secret = pyotp.random_base32()\n",
    "        save_secret(secret, filename)\n",
    "        return secret\n",
    "    with open(filename, \"r\") as f:\n",
    "        return f.read().strip()\n",
    "\n",
    "# Giới hạn số lần thử nhập mật khẩu hoặc OTP\n",
    "MAX_PASSWORD_ATTEMPTS = 3\n",
    "MAX_OTP_ATTEMPTS = 3\n",
    "\n",
    "def main():\n",
    "    # Chuẩn bị mật khẩu đã hash (ví dụ: \"mypassword\")\n",
    "    # Trong thực tế bạn nên hash mật khẩu một lần, và lưu lại\n",
    "    # Đây chỉ để demo\n",
    "    stored_password_hash = hash_password(\"mypassword\")\n",
    "\n",
    "    # Bước 1: Xác thực mật khẩu (giới hạn số lần)\n",
    "    for attempt in range(1, MAX_PASSWORD_ATTEMPTS + 1):\n",
    "        password = input(\"Nhập mật khẩu: \")\n",
    "        if check_password(password, stored_password_hash):\n",
    "            print(\"Xác thực mật khẩu thành công! Chuyển sang bước xác thực OTP.\")\n",
    "            break\n",
    "        else:\n",
    "            print(f\"Mật khẩu sai! Còn {MAX_PASSWORD_ATTEMPTS - attempt} lần thử.\")\n",
    "            if attempt == MAX_PASSWORD_ATTEMPTS:\n",
    "                print(\"Bạn đã thử quá số lần cho phép. Thoát chương trình.\")\n",
    "                return\n",
    "\n",
    "    # Bước 2: Xác thực OTP\n",
    "    secret = load_secret()\n",
    "    totp = pyotp.TOTP(secret)\n",
    "\n",
    "    print(\"Mã OTP của bạn là:\", totp.now())  # Thường áp dụng gửi SMS hoặc Email\n",
    "\n",
    "    for attempt in range(1, MAX_OTP_ATTEMPTS + 1):\n",
    "        otp_input = input(\"Nhập mã OTP: \")\n",
    "        if totp.verify(otp_input):\n",
    "            print(\"Xác thực hai yếu tố thành công!\")\n",
    "            return\n",
    "        else:\n",
    "            print(f\"Mã OTP không hợp lệ! Còn {MAX_OTP_ATTEMPTS - attempt} lần thử.\")\n",
    "            if attempt == MAX_OTP_ATTEMPTS:\n",
    "                print(\"Bạn đã nhập sai OTP quá số lần cho phép. Thoát chương trình.\")\n",
    "                return\n",
    "\n",
    "if __name__ == \"__main__\":\n",
    "    main()"
   ]
  }
 ],
 "metadata": {
  "kernelspec": {
   "display_name": "Python 3",
   "language": "python",
   "name": "python3"
  },
  "language_info": {
   "codemirror_mode": {
    "name": "ipython",
    "version": 3
   },
   "file_extension": ".py",
   "mimetype": "text/x-python",
   "name": "python",
   "nbconvert_exporter": "python",
   "pygments_lexer": "ipython3",
   "version": "3.11.0"
  }
 },
 "nbformat": 4,
 "nbformat_minor": 5
}
