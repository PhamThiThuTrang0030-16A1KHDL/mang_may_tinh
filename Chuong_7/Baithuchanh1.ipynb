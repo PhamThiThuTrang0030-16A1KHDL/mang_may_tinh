{
 "cells": [
  {
   "cell_type": "markdown",
   "id": "b553cd1f",
   "metadata": {},
   "source": [
    "# B1: Mã hóa và giải mã bằng AES(Mã hóa đối xứng)\n",
    "Viết chương trình mã hóa một đoạn văn bản bằng thuật toán AES với khóa 128-bit và giải mã để kiểm tra tính chính xác. Đồng thời, đo thời gian thực thi của quá trình mã hóa và giải mã AES"
   ]
  },
  {
   "cell_type": "code",
   "execution_count": 1,
   "id": "1d1525a7",
   "metadata": {},
   "outputs": [
    {
     "name": "stdout",
     "output_type": "stream",
     "text": [
      "Văn bản mã hóa (AES): b':U\\xc9;4\\xcb\\xd3j\\x8dsR\\xa1\\xd3\\x8bm\\xfccK\\x92\\x19\\xa7\\xe5\\xfaF\\x18\\xc1\"t\\xd84\\xacR\\xe9M\\xbc\\x9e\\x12\\xb4\\xcf%u\\x1eJ\\xf5\\\\\\x86G\\xd5z+\\x81\\x17\\x1c\\x87\\xbc4p\\x94\\x92?/\\x83\\x8b\\xaa'\n",
      "Thời gian mã hóa AES: 0.005169391632080078 giây\n",
      "Văn bản giải mã (AES): Hello, this is a test message for AES encryption!\n",
      "Thời gian giải mã AES: 0.0 giây\n"
     ]
    }
   ],
   "source": [
    "from Crypto.Cipher import AES\n",
    "from Crypto.Random import get_random_bytes\n",
    "from Crypto.Util.Padding import pad, unpad\n",
    "import time\n",
    "\n",
    "# Tạo khóa mã hóa 128-bit và khởi tạo AES\n",
    "key = get_random_bytes(16)\n",
    "cipher = AES.new(key, AES.MODE_CBC)\n",
    "\n",
    "plaintext = b\"Hello, this is a test message for AES encryption!\"\n",
    "\n",
    "# Đo thời gian mã hóa AES\n",
    "start_time = time.time()\n",
    "ciphertext = cipher.encrypt(pad(plaintext, AES.block_size))\n",
    "end_time = time.time()\n",
    "aes_encryption_time = end_time - start_time\n",
    "\n",
    "print(\"Văn bản mã hóa (AES):\", ciphertext)\n",
    "print(\"Thời gian mã hóa AES:\", aes_encryption_time, \"giây\")\n",
    "\n",
    "# Giải mã và đo thời gian giải mã AES\n",
    "start_time = time.time()\n",
    "decipher = AES.new(key, AES.MODE_CBC, cipher.iv)\n",
    "decrypted_text = unpad(decipher.decrypt(ciphertext), AES.block_size)\n",
    "end_time = time.time()\n",
    "aes_decryption_time = end_time - start_time\n",
    "\n",
    "print(\"Văn bản giải mã (AES):\", decrypted_text.decode())\n",
    "print(\"Thời gian giải mã AES:\", aes_decryption_time, \"giây\")"
   ]
  },
  {
   "cell_type": "markdown",
   "id": "e6508c7b",
   "metadata": {},
   "source": [
    "# B2: Mã hóa và giải mã RSA (Mã hóa bất đối xứng) để mã hóa khóa AES"
   ]
  },
  {
   "cell_type": "code",
   "execution_count": 2,
   "id": "35c57aef",
   "metadata": {},
   "outputs": [
    {
     "name": "stdout",
     "output_type": "stream",
     "text": [
      "Khóa AES sau khi mã hóa bằng RSA: b\"\\rQ\\xfa\\xe7n/+\\xc2\\xd8Q\\xb5\\xe5\\x88\\xf8I/2\\x8a\\x0b\\xa6*C$\\xadl\\x93\\xd1\\xc4\\xdf\\xfc\\x90\\x19\\xa9- 3\\x85>aa\\xcc\\xc86\\x85\\\\\\xe3\\x92\\x81\\x9fQ\\x070\\x92\\xe1{R>\\x94\\xcf\\x9d}\\xf6\\xb2\\xa2\\x84\\xc7~\\x1c@\\x8a\\xdf\\x95)\\x1f\\x05\\xf7{\\x1aX\\xc6\\xdcm\\xba\\x8c(^|x:\\x053\\x15\\x89\\xf2\\xe8~\\xcb\\xd5\\xac\\xce\\xc1\\xc2\\xf0\\x91\\x1e\\xaaKb\\x1c\\x80]n\\x8aB\\xe3\\xfd\\xd1\\x1c\\xc8\\x1c8\\\\\\xec\\x91\\x1b\\xb2\\xdc\\xff6\\x95\\x1ed\\x8a\\x1f]+m\\xd3\\x1eDQ\\xb4\\x96\\xbf\\xfd\\xf2\\x9f\\xbf\\x88\\xa4\\x80\\x08NC\\xb4\\xde\\xf4\\xcf\\x17?w\\x12\\x98\\x1e\\x90\\x8a\\xad\\xc3\\x14\\x81$77\\x91\\xf0x\\xc7\\xc8\\x8b;,A\\xfa\\xee\\x18\\xd6'V\\xce\\xcdc1\\x00\\x85\\xb0[?\\xb3S\\xa3/\\xed\\xd3\\x95\\xaf\\xb2\\xa3tQ\\xb9'\\xbe\\xcd\\r>\\x02\\x83\\xc9\\x19Q%\\x0f\\x90@\\x10A\\xa0\\x9f\\xab\\xec\\x8d\\x81\\x13B\\x92/\\x9a\\xff\\xa4y\\xe0\\x02\\x8b\\xee-\\x8c\\xcc\\x07\\x89<\\xa1\\xba\\x12d\\xef\\x9e\"\n",
      "Thời gian mã hóa RSA: 0.0021381378173828125 giây\n",
      "Khóa AES sau khi giải mã: b'Li\\xc9D\\xecQ\\t\\x0eK\\x96\\xb9\\xa3\\x8b\\xc94\\x1b'\n",
      "Thời gian giải mã RSA: 0.0 giây\n"
     ]
    }
   ],
   "source": [
    "from Crypto.PublicKey import RSA\n",
    "from Crypto.Cipher import PKCS1_OAEP\n",
    "from Crypto.Random import get_random_bytes\n",
    "import time\n",
    "\n",
    "# Tạo cặp khóa RSA\n",
    "key = RSA.generate(2048)\n",
    "private_key = key.export_key()\n",
    "public_key = key.publickey().export_key()\n",
    "\n",
    "# Mã hóa khóa AES bằng khóa công khai RSA và đo thời gian\n",
    "aes_key = get_random_bytes(16)\n",
    "cipher_rsa = PKCS1_OAEP.new(RSA.import_key(public_key))\n",
    "\n",
    "start_time = time.time()\n",
    "encrypted_aes_key = cipher_rsa.encrypt(aes_key)\n",
    "end_time = time.time()\n",
    "rsa_encryption_time = end_time - start_time\n",
    "\n",
    "print(\"Khóa AES sau khi mã hóa bằng RSA:\", encrypted_aes_key)\n",
    "print(\"Thời gian mã hóa RSA:\", rsa_encryption_time, \"giây\")\n",
    "\n",
    "# Giải mã khóa AES bằng khóa bí mật RSA và đo thời gian\n",
    "decipher_rsa = PKCS1_OAEP.new(RSA.import_key(private_key))\n",
    "\n",
    "start_time = time.time()\n",
    "decrypted_aes_key = decipher_rsa.decrypt(encrypted_aes_key)\n",
    "end_time = time.time()\n",
    "rsa_decryption_time = end_time - start_time\n",
    "\n",
    "print(\"Khóa AES sau khi giải mã:\", decrypted_aes_key)\n",
    "print(\"Thời gian giải mã RSA:\", rsa_decryption_time, \"giây\")"
   ]
  },
  {
   "cell_type": "markdown",
   "id": "277f806d",
   "metadata": {},
   "source": [
    "# B3: So sánh thời gian thực thi giữa AES và RSA"
   ]
  },
  {
   "cell_type": "code",
   "execution_count": null,
   "id": "d41834b5",
   "metadata": {},
   "outputs": [],
   "source": [
    "from Crypto.PublicKey import RSA\n",
    "from Crypto.Cipher import PKCS1_OAEP\n",
    "\n",
    "# Tạo cặp khóa RSA\n",
    "key = RSA.generate(2048)\n",
    "private_key = key.export_key()\n",
    "public_key = key.publickey().export_key()\n",
    "\n",
    "# Mã hóa khóa AES bằng khóa công khai RSA và đo thời gian\n",
    "aes_key = get_random_bytes(16)\n",
    "cipher_rsa = PKCS1_OAEP.new(RSA.import_key(public_key))\n",
    "\n",
    "start_time = time.time()\n",
    "\n",
    "print(\"Khóa AES sau khi giải mã:\", decrypted_aes_key)\n",
    "print(\"Thời gian giải mã RSA:\", rsa_decryption_time, \"giây\")"
   ]
  },
  {
   "cell_type": "code",
   "execution_count": 4,
   "id": "33f81da1",
   "metadata": {},
   "outputs": [
    {
     "name": "stdout",
     "output_type": "stream",
     "text": [
      "----- So sánh thời gian mã hóa -----\n",
      "Thời gian mã hóa AES: 0.005169 giây\n",
      "Thời gian mã hóa RSA: 0.002138 giây\n",
      "\n",
      "----- So sánh thời gian giải mã -----\n",
      "Thời gian giải mã AES: 0.000000 giây\n",
      "Thời gian giải mã RSA: 0.000000 giây\n",
      "\n",
      "Mã hóa RSA nhanh hơn mã hóa AES\n",
      "Giải mã RSA nhanh hơn giải mã AES\n"
     ]
    }
   ],
   "source": [
    "print(\"----- So sánh thời gian mã hóa -----\")\n",
    "print(f\"Thời gian mã hóa AES: {aes_encryption_time:.6f} giây\")\n",
    "print(f\"Thời gian mã hóa RSA: {rsa_encryption_time:.6f} giây\")\n",
    "\n",
    "print(\"\\n----- So sánh thời gian giải mã -----\")\n",
    "print(f\"Thời gian giải mã AES: {aes_decryption_time:.6f} giây\")\n",
    "print(f\"Thời gian giải mã RSA: {rsa_decryption_time:.6f} giây\")\n",
    "\n",
    "if aes_encryption_time < rsa_encryption_time:\n",
    "    print(\"\\nMã hóa AES nhanh hơn mã hóa RSA\")\n",
    "else:\n",
    "    print(\"\\nMã hóa RSA nhanh hơn mã hóa AES\")\n",
    "\n",
    "if aes_decryption_time < rsa_decryption_time:\n",
    "    print(\"Giải mã AES nhanh hơn giải mã RSA\")\n",
    "else:\n",
    "    print(\"Giải mã RSA nhanh hơn giải mã AES\")"
   ]
  },
  {
   "cell_type": "markdown",
   "id": "9a27428a",
   "metadata": {},
   "source": [
    "1. Tại sao mã hóa AES có tốc độ nhanh hơn đáng kể so với RSA?\n",
    "\n",
    "AES là thuật toán mã hóa đối xứng, sử dụng cùng một khóa cho mã hóa và giải mã. Thuật toán này thiết kế để xử lý nhanh các khối dữ liệu lớn, rất phù hợp với mã hóa dữ liệu có dung lượng lớn.\n",
    "RSA là thuật toán mã hóa bất đối xứng, sử dụng cặp khóa công khai và khóa bí mật khác nhau. Thuật toán này phức tạp hơn nhiều, xử lý dựa trên các phép toán số học lớn (số nguyên tố lớn, luỹ thừa modulo...), nên rất chậm khi thực hiện trên dữ liệu lớn.\n",
    "Do đó, AES thường nhanh và hiệu quả hơn RSA rất nhiều.\n",
    "\n",
    "2. Trong thực tế, tại sao người ta thường kết hợp cả AES và RSA trong một hệ thống bảo mật?\n",
    "\n",
    "RSA thường được dùng để mã hóa khóa AES, chứ không để mã hóa trực tiếp dữ liệu lớn, vì RSA xử lý chậm và tốn tài nguyên.\n",
    "AES dùng để mã hóa dữ liệu chính với tốc độ nhanh.\n",
    "Việc kết hợp giúp tận dụng ưu điểm của cả hai:\n",
    "Tính bảo mật cao của RSA trong việc truyền khóa một cách an toàn.\n",
    "Tốc độ xử lý nhanh của AES cho dữ liệu lớn.\n",
    "Ngoài ra, việc dùng khóa AES ngẫu nhiên cho từng phiên làm tăng tính bảo mật, vì ngay cả khi một khóa AES bị lộ, các phiên khác vẫn an toàn.\n",
    "\n",
    "3. Dựa trên kết quả đo thời gian, loại mã hóa nào phù hợp hơn cho việc mã hóa dữ liệu dung lượng lớn?\n",
    "\n",
    "AES phù hợp hơn để mã hóa dữ liệu dung lượng lớn do tốc độ nhanh, hiệu quả, chiếm ít tài nguyên tính toán.\n",
    "RSA không thích hợp để mã hóa trực tiếp dữ liệu lớn do hiệu suất thấp, thường chỉ dùng để mã hóa khóa AES hoặc dữ liệu nhỏ.\n",
    "Vì vậy trong các ứng dụng thực tế, thường dùng song song:\n",
    "Mã hóa dữ liệu lớn bằng AES.\n",
    "Mã hóa khóa AES bằng RSA để truyền khóa an toàn."
   ]
  }
 ],
 "metadata": {
  "kernelspec": {
   "display_name": "Python 3",
   "language": "python",
   "name": "python3"
  },
  "language_info": {
   "codemirror_mode": {
    "name": "ipython",
    "version": 3
   },
   "file_extension": ".py",
   "mimetype": "text/x-python",
   "name": "python",
   "nbconvert_exporter": "python",
   "pygments_lexer": "ipython3",
   "version": "3.11.5"
  }
 },
 "nbformat": 4,
 "nbformat_minor": 5
}
