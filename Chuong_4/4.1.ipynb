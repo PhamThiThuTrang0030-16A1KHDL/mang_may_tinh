{
 "cells": [
  {
   "cell_type": "code",
   "execution_count": null,
   "id": "ed395041",
   "metadata": {},
   "outputs": [
    {
     "name": "stdout",
     "output_type": "stream",
     "text": [
      "Băm của chuỗi 1: d4e2614569730c7287b186763fe43ca21d3bc8dcd148453b93eefce08433e8df\n",
      "Băm của chuỗi 1: 0844f3d44370e6e8a2b9042553cb01753423ec4b45d33e29a71ab83d09e435a4\n"
     ]
    }
   ],
   "source": [
    "import hashlib\n",
    "\n",
    "#Hai chuỗi dữ liệu khác nhau chỉ một lý tự\n",
    "data1=\"Blockchain là công nghệ nền tảng\"\n",
    "data2=\"blockchain là công nghệ nền tảng\"\n",
    "\n",
    "#Tính giá trị hàm băm cho từng chuỗi\n",
    "hash1=hashlib.sha256(data1.encode()).hexdigest()\n",
    "hash2=hashlib.sha256(data2.encode()).hexdigest()\n",
    "\n",
    "#In kết quả\n",
    "print(\"Băm của chuỗi 1:\",hash1)\n",
    "print(\"Băm của chuỗi 1:\",hash2)\n"
   ]
  }
 ],
 "metadata": {
  "kernelspec": {
   "display_name": "Python 3",
   "language": "python",
   "name": "python3"
  },
  "language_info": {
   "codemirror_mode": {
    "name": "ipython",
    "version": 3
   },
   "file_extension": ".py",
   "mimetype": "text/x-python",
   "name": "python",
   "nbconvert_exporter": "python",
   "pygments_lexer": "ipython3",
   "version": "3.11.5"
  }
 },
 "nbformat": 4,
 "nbformat_minor": 5
}
