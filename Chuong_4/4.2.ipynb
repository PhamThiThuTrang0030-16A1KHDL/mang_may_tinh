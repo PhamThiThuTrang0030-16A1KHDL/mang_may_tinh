{
 "cells": [
  {
   "cell_type": "code",
   "execution_count": null,
   "id": "94bb752d",
   "metadata": {},
   "outputs": [
    {
     "name": "stdout",
     "output_type": "stream",
     "text": [
      "Mã băm (hash) của khối: 3863612ef544c4b90cb2ed6fb72b7f8f884aa9720b51eb9ec507181209f14188\n"
     ]
    }
   ],
   "source": [
    "import hashlib\n",
    "\n",
    "class Block:\n",
    "    def __init__(self,previous_hash,data):\n",
    "        #Luu mã băm của khối trước (liên kết chuỗi)\n",
    "        self.previous_hash = previous_hash\n",
    "        #Dữ liệu giao dịch hoặc thông tin cần ghi vào khối\n",
    "        self.data=data\n",
    "        #Tự động tính mã băm khi khối đưuọc tạo\n",
    "        self.hash=self.calculate_hash()\n",
    "    \n",
    "    def calculate_hash(self):\n",
    "        #Gộp thông tin khối hiện tại và khối trước\n",
    "        block_data=self.previous_hash + self.data\n",
    "        #Tính mã hàm SH1-256 (đầu ra là chuỗi 64 ký tự)\n",
    "        return hashlib.sha256(block_data.encode()).hexdigest()\n",
    "#Tạo một khối mới với dữ liệu giả định\n",
    "block=Block(\"0000a7c8...\",\"Transaction Data Example\") #\"Something else\"\n",
    "\n",
    "print(\"Mã băm (hash) của khối:\",block.hash)\n"
   ]
  }
 ],
 "metadata": {
  "kernelspec": {
   "display_name": "Python 3",
   "language": "python",
   "name": "python3"
  },
  "language_info": {
   "codemirror_mode": {
    "name": "ipython",
    "version": 3
   },
   "file_extension": ".py",
   "mimetype": "text/x-python",
   "name": "python",
   "nbconvert_exporter": "python",
   "pygments_lexer": "ipython3",
   "version": "3.11.5"
  }
 },
 "nbformat": 4,
 "nbformat_minor": 5
}
