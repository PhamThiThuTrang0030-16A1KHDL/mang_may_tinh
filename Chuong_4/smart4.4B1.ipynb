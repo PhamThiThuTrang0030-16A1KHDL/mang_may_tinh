{
 "cells": [
  {
   "cell_type": "markdown",
   "id": "8941a9b7",
   "metadata": {},
   "source": [
    "B1: Cài và import thư viện cần thiết"
   ]
  },
  {
   "cell_type": "code",
   "execution_count": 1,
   "id": "2b6d37a0",
   "metadata": {},
   "outputs": [],
   "source": [
    "import web3\n",
    "import solcx\n",
    "import json"
   ]
  },
  {
   "cell_type": "code",
   "execution_count": 2,
   "id": "233dc199",
   "metadata": {},
   "outputs": [
    {
     "name": "stdout",
     "output_type": "stream",
     "text": [
      "Web3 Version 7.10.0\n"
     ]
    }
   ],
   "source": [
    "# kiểm tra phiên bản web3\n",
    "print('Web3 Version', web3.__version__)"
   ]
  },
  {
   "cell_type": "code",
   "execution_count": 3,
   "id": "a8e9324d",
   "metadata": {},
   "outputs": [
    {
     "name": "stdout",
     "output_type": "stream",
     "text": [
      "Các phiên bản Solidity có sẵn: [<Version('0.8.0')>]\n"
     ]
    }
   ],
   "source": [
    "#Kiêm rtra chức năng của solcx\n",
    "print(\"Các phiên bản Solidity có sẵn:\",solcx.get_installed_solc_versions())"
   ]
  },
  {
   "cell_type": "code",
   "execution_count": 4,
   "id": "7a9ea159",
   "metadata": {},
   "outputs": [
    {
     "name": "stdout",
     "output_type": "stream",
     "text": [
      "Các phiên bản Solidity có thể cài: [<Version('0.8.29')>, <Version('0.8.28')>, <Version('0.8.27')>, <Version('0.8.26')>, <Version('0.8.25')>, <Version('0.8.24')>, <Version('0.8.23')>, <Version('0.8.22')>, <Version('0.8.21')>, <Version('0.8.20')>, <Version('0.8.19')>, <Version('0.8.18')>, <Version('0.8.17')>, <Version('0.8.16')>, <Version('0.8.15')>, <Version('0.8.14')>, <Version('0.8.13')>, <Version('0.8.12')>, <Version('0.8.11')>, <Version('0.8.10')>, <Version('0.8.9')>, <Version('0.8.8')>, <Version('0.8.7')>, <Version('0.8.6')>, <Version('0.8.5')>, <Version('0.8.4')>, <Version('0.8.3')>, <Version('0.8.2')>, <Version('0.8.1')>, <Version('0.8.0')>, <Version('0.7.6')>, <Version('0.7.5')>, <Version('0.7.4')>, <Version('0.7.3')>, <Version('0.7.2')>, <Version('0.7.1')>, <Version('0.7.0')>, <Version('0.6.12')>, <Version('0.6.11')>, <Version('0.6.10')>, <Version('0.6.9')>, <Version('0.6.8')>, <Version('0.6.7')>, <Version('0.6.6')>, <Version('0.6.5')>, <Version('0.6.4')>, <Version('0.6.3')>, <Version('0.6.2')>, <Version('0.6.1')>, <Version('0.6.0')>, <Version('0.5.17')>, <Version('0.5.16')>, <Version('0.5.15')>, <Version('0.5.14')>, <Version('0.5.13')>, <Version('0.5.12')>, <Version('0.5.11')>, <Version('0.5.10')>, <Version('0.5.9')>, <Version('0.5.8')>, <Version('0.5.7')>, <Version('0.5.6')>, <Version('0.5.5')>, <Version('0.5.4')>, <Version('0.5.3')>, <Version('0.5.2')>, <Version('0.5.1')>, <Version('0.5.0')>, <Version('0.4.26')>, <Version('0.4.25')>, <Version('0.4.24')>, <Version('0.4.23')>, <Version('0.4.22')>, <Version('0.4.21')>, <Version('0.4.20')>, <Version('0.4.19')>, <Version('0.4.18')>, <Version('0.4.17')>, <Version('0.4.16')>, <Version('0.4.15')>, <Version('0.4.14')>, <Version('0.4.13')>, <Version('0.4.12')>, <Version('0.4.11')>]\n"
     ]
    }
   ],
   "source": [
    "print(\"Các phiên bản Solidity có thể cài:\",solcx.get_installable_solc_versions())"
   ]
  },
  {
   "cell_type": "markdown",
   "id": "288880be",
   "metadata": {},
   "source": [
    "B2: Cài đặt Solidity Cmpiler 0.8.0"
   ]
  },
  {
   "cell_type": "code",
   "execution_count": 5,
   "id": "ecbed485",
   "metadata": {},
   "outputs": [
    {
     "data": {
      "text/plain": [
       "<Version('0.8.0')>"
      ]
     },
     "execution_count": 5,
     "metadata": {},
     "output_type": "execute_result"
    }
   ],
   "source": [
    "from solcx import install_solc,compile_standard\n",
    "install_solc('0.8.0')"
   ]
  },
  {
   "cell_type": "code",
   "execution_count": 6,
   "id": "5d39ebe3",
   "metadata": {},
   "outputs": [
    {
     "name": "stdout",
     "output_type": "stream",
     "text": [
      "Phiên bản đã cài [<Version('0.8.0')>]\n"
     ]
    }
   ],
   "source": [
    "print('Phiên bản đã cài',solcx.get_installed_solc_versions())"
   ]
  },
  {
   "cell_type": "markdown",
   "id": "ecc698f8",
   "metadata": {},
   "source": [
    "B3"
   ]
  },
  {
   "cell_type": "code",
   "execution_count": 7,
   "id": "ca5cdfd5",
   "metadata": {},
   "outputs": [
    {
     "name": "stdout",
     "output_type": "stream",
     "text": [
      "// SPDX-License-Identifier: MIT\n",
      "pragma solidity ^0.8.0;\n",
      "\n",
      "contract MessageContract {\n",
      "    string public message;\n",
      "\n",
      "    constructor(string memory _message) {\n",
      "        message= _message;\n",
      "    }\n",
      "    function \n"
     ]
    }
   ],
   "source": [
    "with open(\"Message.sol\",\"r\") as file:\n",
    "    source_code=file.read()\n",
    "\n",
    "#Kiểm tra xem đọc đúng chưa\n",
    "print(source_code[:200])"
   ]
  },
  {
   "cell_type": "code",
   "execution_count": 8,
   "id": "5f70699c",
   "metadata": {},
   "outputs": [],
   "source": [
    "compiled_sol = compile_standard({\n",
    "    \"language\": \"Solidity\",\n",
    "    \"sources\": {\n",
    "        \"Message.sol\": {\n",
    "            \"content\": source_code\n",
    "        }\n",
    "    },\n",
    "    \"settings\": {\n",
    "        \"outputSelection\": {\n",
    "            \"*\": {\n",
    "                \"*\": [\"abi\", \"metadata\", \"evm.bytecode\", \"evm.sourceMap\"]\n",
    "            }\n",
    "        }\n",
    "    }\n",
    "}, solc_version=\"0.8.0\")\n"
   ]
  },
  {
   "cell_type": "markdown",
   "id": "9c6569fb",
   "metadata": {},
   "source": [
    "3.3 - Trích xuất ABI và Bytecode"
   ]
  },
  {
   "cell_type": "code",
   "execution_count": 9,
   "id": "04ea5e0b",
   "metadata": {},
   "outputs": [],
   "source": [
    "abi=compiled_sol['contracts']['Message.sol']['MessageContract']['abi']\n",
    "bycode=compiled_sol['contracts']['Message.sol']['MessageContract']['evm']['bytecode']['object']"
   ]
  },
  {
   "cell_type": "code",
   "execution_count": 11,
   "id": "8f81b0e2",
   "metadata": {},
   "outputs": [
    {
     "name": "stdout",
     "output_type": "stream",
     "text": [
      "ABI rút gọn [{'inputs': [{'internalType': 'string', 'name': '_message', 'type': 'string'}], 'stateMutability': 'nonpayable', 'type': 'constructor'}]\n",
      "Bycode (rút gọn) 60806040523480156100 ...\n"
     ]
    }
   ],
   "source": [
    "print(\"ABI rút gọn\", abi[:1])\n",
    "print('Bycode (rút gọn)', bycode[:20],\"...\")"
   ]
  },
  {
   "cell_type": "markdown",
   "id": "6bbccd4c",
   "metadata": {},
   "source": [
    "Bước 4 - Kết nối ganache và triển khai hợp đồng \n",
    "\n",
    "Mục tiêu: \n",
    "\n",
    "1. Kết nối với Ganache đang chạy tại http://127.0.0.1:7545\n",
    "2. Triển khai MessageContract vơi constructor nhận chuỗi \"Chào Anh/Chị\""
   ]
  },
  {
   "cell_type": "code",
   "execution_count": null,
   "id": "0c8db58d",
   "metadata": {},
   "outputs": [
    {
     "name": "stdout",
     "output_type": "stream",
     "text": [
      "Connected? True\n",
      "TX Hash: 351f0609b2a5e3ec029b5b1ddc01b2757bd21d85a7eac251d34b5d0793a8147e\n",
      "Giao dịch hoàn tất tại block: 1\n"
     ]
    }
   ],
   "source": [
    "# from web3 import Web3\n",
    "\n",
    "# # Kết nối tới Ganache\n",
    "# w3 = Web3(Web3.HTTPProvider(\"http://127.0.0.1:7545\"))\n",
    "\n",
    "# # Kiểm tra kết nối\n",
    "# print(\"Connected?\", w3.is_connected())\n",
    "\n",
    "# # Lấy danh sách tài khoản\n",
    "# accounts = w3.eth.accounts\n",
    "\n",
    "# # Thiết lập tài khoản mặc định\n",
    "# w3.eth.default_account = accounts[0]\n",
    "\n",
    "# # Gửi ETH từ account[0] -> account[1]\n",
    "# tx_hash = w3.eth.send_transaction({\n",
    "#     'from': accounts[0],\n",
    "#     'to': accounts[1],\n",
    "#     'value': w3.to_wei(1, 'ether')  # gửi 1 ETH\n",
    "# })\n",
    "\n",
    "# # In hash giao dịch\n",
    "# print(\"TX Hash:\", tx_hash.hex())\n",
    "\n",
    "# # Đợi transaction được khai thác\n",
    "# tx_receipt = w3.eth.wait_for_transaction_receipt(tx_hash)\n",
    "# print(\"Giao dịch hoàn tất tại block:\", tx_receipt.blockNumber)\n"
   ]
  },
  {
   "cell_type": "code",
   "execution_count": 25,
   "id": "589bd28e",
   "metadata": {},
   "outputs": [
    {
     "name": "stdout",
     "output_type": "stream",
     "text": [
      "Kết nối thành công ? -->  True\n",
      "Tài khoản mặc định: 0x3AAA39605341726FFD91F979E659f8928A9d6675\n"
     ]
    }
   ],
   "source": [
    "from web3 import Web3\n",
    "# Kết nối tới Ganache GUI\n",
    "w3=Web3(Web3.HTTPProvider(\"http://127.0.0.1:7545\"))\n",
    "\n",
    "#Kiểm tra kết nối\n",
    "print(\"Kết nối thành công ? --> \",w3.is_connected())\n",
    "\n",
    "#Lấy danh sách tài khoản có sẵn trong Ganache\n",
    "# accounts=w3.eth.accounts[0]\n",
    "# w3.eth.default_account=accounts[0]\n",
    "w3.eth.default_account='0x3AAA39605341726FFD91F979E659f8928A9d6675'\n",
    "print(\"Tài khoản mặc định:\",w3.eth.default_account)"
   ]
  },
  {
   "cell_type": "code",
   "execution_count": 26,
   "id": "385ae9a9",
   "metadata": {},
   "outputs": [
    {
     "name": "stdout",
     "output_type": "stream",
     "text": [
      "Hợp đồng đã triển khai tại địa chỉ: 0xB31F81b7e07A110f65606b0f10558f803353911D\n"
     ]
    }
   ],
   "source": [
    "#Tạo đối tượng contract từ ABI và Bycode\n",
    "MessageContract=w3.eth.contract(abi=abi,bytecode=bycode)\n",
    "\n",
    "#Gửi giao dịch triển khai contract, truyền constructor message\n",
    "tx_hash=MessageContract.constructor(\"Chào quý khách!\").transact()\n",
    "\n",
    "#Chờ nhận kết quả giao dịch để lấy địa chỉ contract\n",
    "tx_receipt=w3.eth.wait_for_transaction_receipt(tx_hash)\n",
    "\n",
    "#In địa chỉ contract vừa triển khai\n",
    "contract_address=tx_receipt.contractAddress\n",
    "print('Hợp đồng đã triển khai tại địa chỉ:',contract_address)"
   ]
  },
  {
   "cell_type": "markdown",
   "id": "ae4fd047",
   "metadata": {},
   "source": [
    "B5: Tương tác với smart contract"
   ]
  },
  {
   "cell_type": "markdown",
   "id": "32ff40e6",
   "metadata": {},
   "source": [
    "5.1. Tạo đối tượng contract để tương tác"
   ]
  },
  {
   "cell_type": "code",
   "execution_count": 27,
   "id": "22095a57",
   "metadata": {},
   "outputs": [],
   "source": [
    "# Tạo instance của contract tại địa chỉ đã triển khai\n",
    "message_contract_instance=w3.eth.contract(\n",
    "    address=contract_address,\n",
    "    abi=abi\n",
    ")"
   ]
  },
  {
   "cell_type": "code",
   "execution_count": 28,
   "id": "a141f540",
   "metadata": {},
   "outputs": [
    {
     "data": {
      "text/plain": [
       "'0xB31F81b7e07A110f65606b0f10558f803353911D'"
      ]
     },
     "execution_count": 28,
     "metadata": {},
     "output_type": "execute_result"
    }
   ],
   "source": [
    "contract_address"
   ]
  },
  {
   "cell_type": "code",
   "execution_count": 32,
   "id": "14be1c54",
   "metadata": {},
   "outputs": [
    {
     "name": "stdout",
     "output_type": "stream",
     "text": [
      "Cập nhật thành công tại block: 3\n"
     ]
    }
   ],
   "source": [
    "# Khởi tạo đúng contract\n",
    "MessageContract = w3.eth.contract(address=contract_address, abi=abi)\n",
    "\n",
    "# Đặt tài khoản mặc định\n",
    "w3.eth.default_account = w3.eth.accounts[0]\n",
    "\n",
    "# Gửi transaction\n",
    "tx_hash = MessageContract.functions.updateMessage(\"CT đã được cập nhật\").transact()\n",
    "tx_receipt = w3.eth.wait_for_transaction_receipt(tx_hash)\n",
    "\n",
    "print(\"Cập nhật thành công tại block:\", tx_receipt.blockNumber)"
   ]
  },
  {
   "cell_type": "markdown",
   "id": "9facedfa",
   "metadata": {},
   "source": [
    "5.2. Đọc thông điệp hiện tại "
   ]
  },
  {
   "cell_type": "code",
   "execution_count": 33,
   "id": "4cc2456f",
   "metadata": {},
   "outputs": [
    {
     "name": "stdout",
     "output_type": "stream",
     "text": [
      "Thông điệp hiện tại tron contract: CT đã được cập nhật\n"
     ]
    }
   ],
   "source": [
    "current_message=message_contract_instance.functions.message().call()\n",
    "print(\"Thông điệp hiện tại tron contract:\",current_message)"
   ]
  }
 ],
 "metadata": {
  "kernelspec": {
   "display_name": "Python 3",
   "language": "python",
   "name": "python3"
  },
  "language_info": {
   "codemirror_mode": {
    "name": "ipython",
    "version": 3
   },
   "file_extension": ".py",
   "mimetype": "text/x-python",
   "name": "python",
   "nbconvert_exporter": "python",
   "pygments_lexer": "ipython3",
   "version": "3.11.5"
  }
 },
 "nbformat": 4,
 "nbformat_minor": 5
}
