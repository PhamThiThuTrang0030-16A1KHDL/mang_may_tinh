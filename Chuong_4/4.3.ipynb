{
 "cells": [
  {
   "cell_type": "code",
   "execution_count": 1,
   "id": "102c7657",
   "metadata": {},
   "outputs": [
    {
     "name": "stdout",
     "output_type": "stream",
     "text": [
      "Mã băm (hash) giao dịch 1: 5c5aeb8b9536fab953afa94c29865d349de9f050e5ac6b227a770863044d9c9e\n",
      "Mã băm (hash) giao dịch 2: ec5159949245af8e64943e981ce1d603a2a73926de963e46ae93dca2c4d5e95d\n",
      "Merkle Root: ef779c7eda7705f197725cae1a98c07b5ecf6d023811c1c5925616f4a92dedd9\n"
     ]
    }
   ],
   "source": [
    "import hashlib\n",
    "\n",
    "def calculate_hash(data):\n",
    "    return hashlib.sha256(data.encode()).hexdigest()\n",
    "\n",
    "# Dữ liệu ban đầu\n",
    "data1 = \"Giao dịch 1\"\n",
    "data2 = \"Giao dịch 2\"\n",
    "\n",
    "# Tính mã băm (hash)\n",
    "hash1 = calculate_hash(data1)\n",
    "hash2 = calculate_hash(data2)\n",
    "\n",
    "# Tạo Merkle Root\n",
    "parent_hash = calculate_hash(hash1 + hash2)\n",
    "\n",
    "print(\"Mã băm (hash) giao dịch 1:\", hash1)\n",
    "print(\"Mã băm (hash) giao dịch 2:\", hash2)\n",
    "print(\"Merkle Root:\", parent_hash)\n"
   ]
  }
 ],
 "metadata": {
  "kernelspec": {
   "display_name": "Python 3",
   "language": "python",
   "name": "python3"
  },
  "language_info": {
   "codemirror_mode": {
    "name": "ipython",
    "version": 3
   },
   "file_extension": ".py",
   "mimetype": "text/x-python",
   "name": "python",
   "nbconvert_exporter": "python",
   "pygments_lexer": "ipython3",
   "version": "3.11.5"
  }
 },
 "nbformat": 4,
 "nbformat_minor": 5
}
