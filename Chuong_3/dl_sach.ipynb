{
 "cells": [
  {
   "cell_type": "code",
   "execution_count": 3,
   "metadata": {},
   "outputs": [
    {
     "name": "stdout",
     "output_type": "stream",
     "text": [
      "                                            Tên sách  Giá (nghìn VND)  \\\n",
      "0                                Đọc Sách, Điểm Sách               41   \n",
      "1               Sách - Phương Pháp Đọc Sách Hiệu Quả              134   \n",
      "2  Sách Phân Tâm Học Nhập Môn (Tặng kèm Bộ Bookma...              143   \n",
      "3  Sách Nghệ Thuật Tư Duy Rành Mạch (Tặng kèm Bộ ...              106   \n",
      "4            Sách - Làm thế nào để đọc sách hiệu quả               81   \n",
      "5                        Sách - Bản Thiết Kế Trí Tuệ              134   \n",
      "6  Sách Bức Xúc Không Làm Ta Vô Can (Tặng kèm Bộ ...               85   \n",
      "7  Sách Phương Pháp Đọc Sách Hiệu Quả (Tái bản Mớ...              134   \n",
      "8  Phương Pháp Đọc Sách Hiệu Quả (*** Sách Bản Qu...              134   \n",
      "9                      Sách - Định Vị (Tái Bản 2020)              149   \n",
      "\n",
      "  Thương hiệu  \n",
      "0    Không rõ  \n",
      "1    Không rõ  \n",
      "2    Không rõ  \n",
      "3    Không rõ  \n",
      "4    Không rõ  \n",
      "5    Không rõ  \n",
      "6    Không rõ  \n",
      "7    Không rõ  \n",
      "8    Không rõ  \n",
      "9    Không rõ  \n"
     ]
    }
   ],
   "source": [
    "import requests\n",
    "import pandas as pd\n",
    "\n",
    "#Định nghĩa endpoint API và tham số truy vấn\n",
    "url='https://tiki.vn/api/v2/products?limit=40&q=s%C3%A1ch'\n",
    "params={\n",
    "    'q':'sách', # Từ khóa tìm kiếm\n",
    "    'limit': 10 # Số kết quả muốn thất\n",
    "}\n",
    "\n",
    "#Thêm User-Agent để giả lập trình duyệt thật\n",
    "headers={\n",
    "    'User-Agent':'Mozilla/5.0'\n",
    "}\n",
    "\n",
    "#Gửi request GET đến API\n",
    "response= requests.get(url, params=params, headers=headers)\n",
    "data= response.json() # Parse dữ liệu JSON trả về\n",
    "\n",
    "#Khởi tạo danh sách để lưu trữ thông tin sách\n",
    "books=[]\n",
    "for item in data['data']: #Duyệt qua sản phẩm trong mảng 'data'\n",
    "    books.append({\\\n",
    "        'Tên sách': item['name'],\n",
    "        'Giá (nghìn VND)': item['price']//1000,\n",
    "        'Thương hiệu':item.get('brand',{}).get('name','Không rõ')\n",
    "        })\n",
    "    \n",
    "#Chuyển sang DataFrame để hiện thị dạng bảng\n",
    "\n",
    "df=pd.DataFrame(books)\n",
    "print(df)"
   ]
  }
 ],
 "metadata": {
  "kernelspec": {
   "display_name": "Python 3",
   "language": "python",
   "name": "python3"
  },
  "language_info": {
   "codemirror_mode": {
    "name": "ipython",
    "version": 3
   },
   "file_extension": ".py",
   "mimetype": "text/x-python",
   "name": "python",
   "nbconvert_exporter": "python",
   "pygments_lexer": "ipython3",
   "version": "3.11.5"
  }
 },
 "nbformat": 4,
 "nbformat_minor": 2
}
