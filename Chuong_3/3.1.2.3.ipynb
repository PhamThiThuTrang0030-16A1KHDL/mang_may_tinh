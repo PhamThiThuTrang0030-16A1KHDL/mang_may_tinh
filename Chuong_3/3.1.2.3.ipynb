{
 "cells": [
  {
   "cell_type": "code",
   "execution_count": 1,
   "metadata": {},
   "outputs": [],
   "source": [
    "import socket"
   ]
  },
  {
   "cell_type": "code",
   "execution_count": 2,
   "metadata": {},
   "outputs": [
    {
     "name": "stdout",
     "output_type": "stream",
     "text": [
      "Socket đã được tạo thành công!\n"
     ]
    }
   ],
   "source": [
    "my_socket=socket.socket(socket.AF_INET, socket.SOCK_STREAM)\n",
    "print('Socket đã được tạo thành công!')"
   ]
  },
  {
   "cell_type": "code",
   "execution_count": null,
   "metadata": {},
   "outputs": [
    {
     "name": "stdout",
     "output_type": "stream",
     "text": [
      "Server đang lắng nghe kết nối...\n"
     ]
    }
   ],
   "source": [
    "#Thiết lập server\n",
    "server_socket=socket.socket(socket.AF_INET,socket.SOCK_STREAM)\n",
    "server_socket.bind((\"127.0.0.1\",80))\n",
    "server_socket.listen(5)\n",
    "\n",
    "print('Server đang lắng nghe kết nối...')\n",
    "while True:\n",
    "    client_socket,client_address = server_socket.accept()\n",
    "    print(f'Kết nối từ {client_address}')\n",
    "    #Nhận dữ liệu từ client\n",
    "    data= client_socket.recv(1024).decode()\n",
    "    print(f'Dữ liệu nhận được {data}')\n",
    "    #Đóng kết nối\n",
    "    client_socket.close()\n",
    "    # Điều kiện dừng server khi nhận từ exit từ client\n",
    "    if data.lower() ==\"exits\":\n",
    "        print('Server đang tắt ...')\n",
    "        break\n",
    "    #Phản hồi từ client\n",
    "    response='Server đã nhận dữ liệu!\\nChào mừng đến với server Python'\n",
    "    client_socket.send(response.encode)\n",
    "    #Đóng kết nối\n",
    "    client_socket.close()\n",
    "#Đóng server\n",
    "server_socket.close()"
   ]
  }
 ],
 "metadata": {
  "kernelspec": {
   "display_name": "Python 3",
   "language": "python",
   "name": "python3"
  },
  "language_info": {
   "codemirror_mode": {
    "name": "ipython",
    "version": 3
   },
   "file_extension": ".py",
   "mimetype": "text/x-python",
   "name": "python",
   "nbconvert_exporter": "python",
   "pygments_lexer": "ipython3",
   "version": "3.11.5"
  }
 },
 "nbformat": 4,
 "nbformat_minor": 2
}
