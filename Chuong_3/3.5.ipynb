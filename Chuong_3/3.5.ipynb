{
 "cells": [
  {
   "cell_type": "code",
   "execution_count": 1,
   "metadata": {},
   "outputs": [
    {
     "name": "stdout",
     "output_type": "stream",
     "text": [
      "[2025-04-01 23:45] Thời tiết tại Hanoi: 21.1 độ C, độ ẩm: 56%, trời:Clear\n"
     ]
    }
   ],
   "source": [
    "import requests\n",
    "\n",
    "YOUR_API_KEY='c60b739172eb41c2b3421413252603'\n",
    "api_key=YOUR_API_KEY\n",
    "city='Hanoi'\n",
    "url = f'http://api.weatherapi.com/v1/current.json?key={api_key}&q={city}&aqi=no'\n",
    "response= requests.get(url)\n",
    "\n",
    "if response.status_code==200:\n",
    "    data=response.json()\n",
    "\n",
    "    time=data['current']['last_updated']\n",
    "\n",
    "    temp= data['current']['temp_c']\n",
    "\n",
    "    humidity=data['current']['humidity']\n",
    "\n",
    "    #mô tả trạng thái thời tiết\n",
    "    condition=data['current']['condition']['text']\n",
    "    print(f'[{time}] Thời tiết tại {city}: {temp} độ C, độ ẩm: {humidity}%, trời:{condition}')\n",
    "else:\n",
    "    print('Không thể truy cập API. Mã lỗi:',response.status_code)"
   ]
  }
 ],
 "metadata": {
  "kernelspec": {
   "display_name": "Python 3",
   "language": "python",
   "name": "python3"
  },
  "language_info": {
   "codemirror_mode": {
    "name": "ipython",
    "version": 3
   },
   "file_extension": ".py",
   "mimetype": "text/x-python",
   "name": "python",
   "nbconvert_exporter": "python",
   "pygments_lexer": "ipython3",
   "version": "3.11.5"
  }
 },
 "nbformat": 4,
 "nbformat_minor": 2
}
