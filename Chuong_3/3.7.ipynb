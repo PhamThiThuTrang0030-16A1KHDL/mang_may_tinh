{
 "cells": [
  {
   "cell_type": "code",
   "execution_count": 2,
   "metadata": {},
   "outputs": [
    {
     "name": "stdout",
     "output_type": "stream",
     "text": [
      "Danh sách các giao diện mạng:\n",
      " - \\Device\\NPF_{7D2F95EC-8823-4159-86A6-F8751F3BC42A}\n",
      " - \\Device\\NPF_{3E3E233C-B0F8-43A2-B5E8-21D73B5812CD}\n",
      " - \\Device\\NPF_{9528F3CB-6557-4D32-B0D0-4A9D2022DAA2}\n",
      " - \\Device\\NPF_{2F4C80D0-E631-4824-92E1-535189FB2233}\n",
      " - \\Device\\NPF_{5C8DFACA-6677-4595-BF00-AD0A3C90E836}\n",
      " - \\Device\\NPF_{FEDCEA5E-4751-48BD-B3C8-45C70F1AE039}\n",
      " - \\Device\\NPF_Loopback\n"
     ]
    }
   ],
   "source": [
    "from scapy.all import get_if_list\n",
    "\n",
    "interfaces=get_if_list()\n",
    "print('Danh sách các giao diện mạng:')\n",
    "for iface in interfaces:\n",
    "    print(f\" - {iface}\")"
   ]
  },
  {
   "cell_type": "code",
   "execution_count": 3,
   "metadata": {},
   "outputs": [
    {
     "name": "stdout",
     "output_type": "stream",
     "text": [
      "Danh sách các giao diện mạng:\n",
      "\\Device\\NPF_{7D2F95EC-8823-4159-86A6-F8751F3BC42A} : 0.0.0.0\n",
      "\\Device\\NPF_{3E3E233C-B0F8-43A2-B5E8-21D73B5812CD} : 0.0.0.0\n",
      "\\Device\\NPF_{9528F3CB-6557-4D32-B0D0-4A9D2022DAA2} : 0.0.0.0\n",
      "\\Device\\NPF_{2F4C80D0-E631-4824-92E1-535189FB2233} : 192.168.1.211\n",
      "\\Device\\NPF_{5C8DFACA-6677-4595-BF00-AD0A3C90E836} : 169.254.45.7\n",
      "\\Device\\NPF_{FEDCEA5E-4751-48BD-B3C8-45C70F1AE039} : 169.254.231.190\n",
      "\\Device\\NPF_Loopback : 127.0.0.1\n"
     ]
    }
   ],
   "source": [
    "from scapy.all import get_if_list,get_if_addr\n",
    "\n",
    "interfaces=get_if_list()\n",
    "print('Danh sách các giao diện mạng:')\n",
    "for iface in interfaces:\n",
    "    try:\n",
    "        print(f\"{iface} : {get_if_addr(iface)}\")\n",
    "    except:\n",
    "        print(f\"{iface}: Không có địa chỉ IP\")"
   ]
  },
  {
   "cell_type": "code",
   "execution_count": 4,
   "metadata": {},
   "outputs": [
    {
     "name": "stdout",
     "output_type": "stream",
     "text": [
      "Địa chỉ MAC của giao diện \\Device\\NPF_{5C8DFACA-6677-4595-BF00-AD0A3C90E836}: ce:47:40:70:4c:f0\n"
     ]
    }
   ],
   "source": [
    "from scapy.all import get_if_list,get_if_hwaddr\n",
    "\n",
    "iface=r'\\Device\\NPF_{5C8DFACA-6677-4595-BF00-AD0A3C90E836}'\n",
    "mac_adress=get_if_hwaddr(iface)\n",
    "print(f\"Địa chỉ MAC của giao diện {iface}: {mac_adress}\")"
   ]
  },
  {
   "cell_type": "code",
   "execution_count": 5,
   "metadata": {},
   "outputs": [
    {
     "name": "stdout",
     "output_type": "stream",
     "text": [
      "Ether / IP / TCP 192.168.1.211:60746 > 118.69.16.33:http S\n",
      "Ether / IP / TCP 118.69.16.33:http > 192.168.1.211:60746 SA / Padding\n",
      "Ether / IP / TCP 192.168.1.211:60746 > 118.69.16.33:http A\n",
      "Ether / IP / TCP 192.168.1.211:60746 > 118.69.16.33:http PA / Raw\n",
      "Ether / IP / TCP 118.69.16.33:http > 192.168.1.211:60746 A / Padding\n"
     ]
    },
    {
     "data": {
      "text/plain": [
       "<Sniffed: TCP:5 UDP:0 ICMP:0 Other:0>"
      ]
     },
     "execution_count": 5,
     "metadata": {},
     "output_type": "execute_result"
    }
   ],
   "source": [
    "from scapy.all import sniff\n",
    "\n",
    "sniff(filter='tcp port 80', count=5, prn=lambda x: x.summary())"
   ]
  },
  {
   "cell_type": "code",
   "execution_count": null,
   "metadata": {},
   "outputs": [],
   "source": [
    "sniff(filter='tcp port 443',count=5, prn)"
   ]
  }
 ],
 "metadata": {
  "kernelspec": {
   "display_name": "Python 3",
   "language": "python",
   "name": "python3"
  },
  "language_info": {
   "codemirror_mode": {
    "name": "ipython",
    "version": 3
   },
   "file_extension": ".py",
   "mimetype": "text/x-python",
   "name": "python",
   "nbconvert_exporter": "python",
   "pygments_lexer": "ipython3",
   "version": "3.11.5"
  }
 },
 "nbformat": 4,
 "nbformat_minor": 2
}
