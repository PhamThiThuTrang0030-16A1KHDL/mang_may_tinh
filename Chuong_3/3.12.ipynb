{
 "cells": [
  {
   "cell_type": "code",
   "execution_count": 1,
   "metadata": {},
   "outputs": [],
   "source": [
    "from scapy.all import sniff"
   ]
  },
  {
   "cell_type": "code",
   "execution_count": 8,
   "metadata": {},
   "outputs": [
    {
     "name": "stdout",
     "output_type": "stream",
     "text": [
      "Thông tin về header IP:\n",
      "Version:4\n"
     ]
    },
    {
     "name": "stdout",
     "output_type": "stream",
     "text": [
      "Header Length: 20 bytes\n",
      "TOTAL Length: 76 bytes\n",
      "TTL (Time to LIVE): 128\n",
      "Protocol: 17\n",
      "Source IP: 192.168.1.211\n",
      "Destination IP: 74.125.250.247\n"
     ]
    }
   ],
   "source": [
    "# Bắt gói tin IP\n",
    "packets=sniff(filter='ip',count=1)\n",
    "packet=packets[0]\n",
    "\n",
    "print('Thông tin về header IP:')\n",
    "print(f\"Version:{packet['IP'].version}\")\n",
    "print(f\"Header Length: {packet['IP'].ihl * 4} bytes\")  # IHL is in 32-bit words, multiply by 4 to get bytes\n",
    "print(f\"TOTAL Length: {packet['IP'].len} bytes\")\n",
    "print(f\"TTL (Time to LIVE): {packet['IP'].ttl}\")\n",
    "print(f\"Protocol: {packet['IP'].proto}\")\n",
    "print(f\"Source IP: {packet['IP'].src}\")\n",
    "print(f\"Destination IP: {packet['IP'].dst}\")"
   ]
  }
 ],
 "metadata": {
  "kernelspec": {
   "display_name": "Python 3",
   "language": "python",
   "name": "python3"
  },
  "language_info": {
   "codemirror_mode": {
    "name": "ipython",
    "version": 3
   },
   "file_extension": ".py",
   "mimetype": "text/x-python",
   "name": "python",
   "nbconvert_exporter": "python",
   "pygments_lexer": "ipython3",
   "version": "3.11.5"
  }
 },
 "nbformat": 4,
 "nbformat_minor": 2
}
